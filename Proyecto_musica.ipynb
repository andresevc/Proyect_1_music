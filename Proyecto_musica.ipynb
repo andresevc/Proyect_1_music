{
 "cells": [
  {
   "cell_type": "markdown",
   "metadata": {
    "id": "fhq_eyov_Zcs"
   },
   "source": [
    "# Contenido <a id='back'></a>\n",
    "\n",
    "* [Introducción](#intro)\n",
    "* [Etapa 1. Descripción de los datos](#data_review)\n",
    "    * [Conclusiones](#data_review_conclusions)\n",
    "* [Etapa 2. Preprocesamiento de datos](#data_preprocessing)\n",
    "    * [2.1 Estilo del encabezado](#header_style)\n",
    "    * [2.2 Valores ausentes](#missing_values)\n",
    "    * [2.3 Duplicados](#duplicates)\n",
    "    * [2.4 Conclusiones](#data_preprocessing_conclusions)\n",
    "* [Etapa 3. Prueba de hipótesis](#hypothesis)\n",
    "    * [3.1 Hipótesis 1: actividad de los usuarios y las usuarias en las dos ciudades](#activity)\n",
    "* [Conclusiones](#end)"
   ]
  },
  {
   "cell_type": "markdown",
   "metadata": {
    "id": "VUC88oWjTJw2"
   },
   "source": [
    "## Introducción <a id='intro'></a>\n",
    "En este proyecto, se analizara datos de transmisión de música online almacenados en el archivo /datasets/music_project_en.csv. Los datos incluyen información sobre usuarios, canciones, artistas, géneros, y tiempos de reproducción en dos ciudades: Springfield y Shelbyville. El objetivo es explorar y limpiar los datos, y finalmente, comparar el comportamiento musical en ambas ciudades para probar una hipótesis sobre las diferencias en preferencias.\n",
    "\n",
    "### Objetivo:\n",
    "Prueba la hipótesis:\n",
    "1. La actividad de los usuarios y las usuarias difiere según el día de la semana y dependiendo de la ciudad.\n",
    "\n",
    "\n",
    "El proyecto consistirá en tres etapas:\n",
    " 1. Descripción de los datos.\n",
    " 2. Preprocesamiento de datos.\n",
    " 3. Prueba de hipótesis.\n",
    "\n",
    "\n",
    "\n",
    "\n",
    "\n",
    "\n"
   ]
  },
  {
   "cell_type": "markdown",
   "metadata": {
    "id": "hDt6pg-Rw-1U"
   },
   "source": [
    "[Volver a Contenidos](#back)"
   ]
  },
  {
   "cell_type": "markdown",
   "metadata": {
    "id": "Ml1hmfXC_Zcs"
   },
   "source": [
    "## Etapa 1. Descripción de los datos <a id='data_review'></a>\n",
    "\n",
    "Se abriran los archivos y se observaran sus tipos de datos , la cantidad de datos que existen y una vision general."
   ]
  },
  {
   "cell_type": "code",
   "execution_count": 27,
   "metadata": {
    "id": "AXN7PHPN_Zcs"
   },
   "outputs": [],
   "source": [
    "# Se importa la liberia pandas \n",
    "import pandas as pd"
   ]
  },
  {
   "cell_type": "markdown",
   "metadata": {
    "id": "SG23P8tt_Zcs"
   },
   "source": [
    "Se lee el archivo  `music_project_en.csv` de la carpeta `/datasets/` y se lo guarda en df."
   ]
  },
  {
   "cell_type": "code",
   "execution_count": 28,
   "metadata": {
    "id": "fFVu7vqh_Zct",
    "scrolled": true
   },
   "outputs": [],
   "source": [
    "# Lectura del archivo \n",
    "df = pd.read_csv(r'C:\\Users\\andre\\Documents\\TRIPLETEN ANALISIS DE DATOS\\Proyectos\\Proyecto_1\\music_project.csv')"
   ]
  },
  {
   "cell_type": "markdown",
   "metadata": {
    "id": "rDoOMd3uTqnZ"
   },
   "source": [
    "Se muestran las primeras 10 filas para tener la vision general de la tabla."
   ]
  },
  {
   "cell_type": "code",
   "execution_count": 29,
   "metadata": {
    "id": "oWTVX3gW_Zct"
   },
   "outputs": [
    {
     "data": {
      "text/html": [
       "<div>\n",
       "<style scoped>\n",
       "    .dataframe tbody tr th:only-of-type {\n",
       "        vertical-align: middle;\n",
       "    }\n",
       "\n",
       "    .dataframe tbody tr th {\n",
       "        vertical-align: top;\n",
       "    }\n",
       "\n",
       "    .dataframe thead th {\n",
       "        text-align: right;\n",
       "    }\n",
       "</style>\n",
       "<table border=\"1\" class=\"dataframe\">\n",
       "  <thead>\n",
       "    <tr style=\"text-align: right;\">\n",
       "      <th></th>\n",
       "      <th>userID</th>\n",
       "      <th>Track</th>\n",
       "      <th>artist</th>\n",
       "      <th>genre</th>\n",
       "      <th>City</th>\n",
       "      <th>time</th>\n",
       "      <th>Day</th>\n",
       "    </tr>\n",
       "  </thead>\n",
       "  <tbody>\n",
       "    <tr>\n",
       "      <th>0</th>\n",
       "      <td>FFB692EC</td>\n",
       "      <td>Kamigata To Boots</td>\n",
       "      <td>The Mass Missile</td>\n",
       "      <td>rock</td>\n",
       "      <td>Shelbyville</td>\n",
       "      <td>20:28:33</td>\n",
       "      <td>Wednesday</td>\n",
       "    </tr>\n",
       "    <tr>\n",
       "      <th>1</th>\n",
       "      <td>55204538</td>\n",
       "      <td>Delayed Because of Accident</td>\n",
       "      <td>Andreas Rönnberg</td>\n",
       "      <td>rock</td>\n",
       "      <td>Springfield</td>\n",
       "      <td>14:07:09</td>\n",
       "      <td>Friday</td>\n",
       "    </tr>\n",
       "    <tr>\n",
       "      <th>2</th>\n",
       "      <td>20EC38</td>\n",
       "      <td>Funiculì funiculà</td>\n",
       "      <td>Mario Lanza</td>\n",
       "      <td>pop</td>\n",
       "      <td>Shelbyville</td>\n",
       "      <td>20:58:07</td>\n",
       "      <td>Wednesday</td>\n",
       "    </tr>\n",
       "    <tr>\n",
       "      <th>3</th>\n",
       "      <td>A3DD03C9</td>\n",
       "      <td>Dragons in the Sunset</td>\n",
       "      <td>Fire + Ice</td>\n",
       "      <td>folk</td>\n",
       "      <td>Shelbyville</td>\n",
       "      <td>08:37:09</td>\n",
       "      <td>Monday</td>\n",
       "    </tr>\n",
       "    <tr>\n",
       "      <th>4</th>\n",
       "      <td>E2DC1FAE</td>\n",
       "      <td>Soul People</td>\n",
       "      <td>Space Echo</td>\n",
       "      <td>dance</td>\n",
       "      <td>Springfield</td>\n",
       "      <td>08:34:34</td>\n",
       "      <td>Monday</td>\n",
       "    </tr>\n",
       "    <tr>\n",
       "      <th>5</th>\n",
       "      <td>842029A1</td>\n",
       "      <td>Chains</td>\n",
       "      <td>Obladaet</td>\n",
       "      <td>rusrap</td>\n",
       "      <td>Shelbyville</td>\n",
       "      <td>13:09:41</td>\n",
       "      <td>Friday</td>\n",
       "    </tr>\n",
       "    <tr>\n",
       "      <th>6</th>\n",
       "      <td>4CB90AA5</td>\n",
       "      <td>True</td>\n",
       "      <td>Roman Messer</td>\n",
       "      <td>dance</td>\n",
       "      <td>Springfield</td>\n",
       "      <td>13:00:07</td>\n",
       "      <td>Wednesday</td>\n",
       "    </tr>\n",
       "    <tr>\n",
       "      <th>7</th>\n",
       "      <td>F03E1C1F</td>\n",
       "      <td>Feeling This Way</td>\n",
       "      <td>Polina Griffith</td>\n",
       "      <td>dance</td>\n",
       "      <td>Springfield</td>\n",
       "      <td>20:47:49</td>\n",
       "      <td>Wednesday</td>\n",
       "    </tr>\n",
       "    <tr>\n",
       "      <th>8</th>\n",
       "      <td>8FA1D3BE</td>\n",
       "      <td>L’estate</td>\n",
       "      <td>Julia Dalia</td>\n",
       "      <td>ruspop</td>\n",
       "      <td>Springfield</td>\n",
       "      <td>09:17:40</td>\n",
       "      <td>Friday</td>\n",
       "    </tr>\n",
       "    <tr>\n",
       "      <th>9</th>\n",
       "      <td>E772D5C0</td>\n",
       "      <td>Pessimist</td>\n",
       "      <td>NaN</td>\n",
       "      <td>dance</td>\n",
       "      <td>Shelbyville</td>\n",
       "      <td>21:20:49</td>\n",
       "      <td>Wednesday</td>\n",
       "    </tr>\n",
       "  </tbody>\n",
       "</table>\n",
       "</div>"
      ],
      "text/plain": [
       "     userID                        Track            artist   genre  \\\n",
       "0  FFB692EC            Kamigata To Boots  The Mass Missile    rock   \n",
       "1  55204538  Delayed Because of Accident  Andreas Rönnberg    rock   \n",
       "2    20EC38            Funiculì funiculà       Mario Lanza     pop   \n",
       "3  A3DD03C9        Dragons in the Sunset        Fire + Ice    folk   \n",
       "4  E2DC1FAE                  Soul People        Space Echo   dance   \n",
       "5  842029A1                       Chains          Obladaet  rusrap   \n",
       "6  4CB90AA5                         True      Roman Messer   dance   \n",
       "7  F03E1C1F             Feeling This Way   Polina Griffith   dance   \n",
       "8  8FA1D3BE                     L’estate       Julia Dalia  ruspop   \n",
       "9  E772D5C0                    Pessimist               NaN   dance   \n",
       "\n",
       "        City        time        Day  \n",
       "0  Shelbyville  20:28:33  Wednesday  \n",
       "1  Springfield  14:07:09     Friday  \n",
       "2  Shelbyville  20:58:07  Wednesday  \n",
       "3  Shelbyville  08:37:09     Monday  \n",
       "4  Springfield  08:34:34     Monday  \n",
       "5  Shelbyville  13:09:41     Friday  \n",
       "6  Springfield  13:00:07  Wednesday  \n",
       "7  Springfield  20:47:49  Wednesday  \n",
       "8  Springfield  09:17:40     Friday  \n",
       "9  Shelbyville  21:20:49  Wednesday  "
      ]
     },
     "execution_count": 29,
     "metadata": {},
     "output_type": "execute_result"
    }
   ],
   "source": [
    "# Obtener las 10 primeras filas de la tabla df\n",
    "df.head(10)"
   ]
  },
  {
   "cell_type": "markdown",
   "metadata": {
    "id": "EO73Kwic_Zct"
   },
   "source": [
    "\n",
    "Posteriormente se aplica el metodo info , para poder observar los tipos de datos de las columnas   y de igual manera comprobar si existen valores ausentes."
   ]
  },
  {
   "cell_type": "code",
   "execution_count": 30,
   "metadata": {
    "id": "DSf2kIb-_Zct"
   },
   "outputs": [
    {
     "name": "stdout",
     "output_type": "stream",
     "text": [
      "<class 'pandas.core.frame.DataFrame'>\n",
      "RangeIndex: 65079 entries, 0 to 65078\n",
      "Data columns (total 7 columns):\n",
      " #   Column    Non-Null Count  Dtype \n",
      "---  ------    --------------  ----- \n",
      " 0     userID  65079 non-null  object\n",
      " 1   Track     63736 non-null  object\n",
      " 2   artist    57512 non-null  object\n",
      " 3   genre     63881 non-null  object\n",
      " 4     City    65079 non-null  object\n",
      " 5   time      65079 non-null  object\n",
      " 6   Day       65079 non-null  object\n",
      "dtypes: object(7)\n",
      "memory usage: 3.5+ MB\n"
     ]
    }
   ],
   "source": [
    "# metodo info\n",
    "df.info()"
   ]
  },
  {
   "cell_type": "markdown",
   "metadata": {
    "id": "TaQ2Iwbr_Zct"
   },
   "source": [
    "##### Estas son las observaciones sobre la tabla. Contiene siete columnas. Almacenan los mismos tipos de datos: `object`.\n",
    "\n",
    "Según la documentación:\n",
    "- `' userID'`: identificador del usuario o la usuaria;\n",
    "- `'Track'`: título de la canción;\n",
    "- `'artist'`: nombre del artista;\n",
    "- `'genre'`: género de la pista;\n",
    "- `'City'`: ciudad del usuario o la usuaria;\n",
    "- `'time'`: la hora exacta en la que se reprodujo la canción;\n",
    "- `'Day'`: día de la semana.\n",
    "\n",
    "Podemos ver tres problemas con el estilo en los encabezados de la tabla:\n",
    "1. Algunos encabezados están en mayúsculas, otros en minúsculas.\n",
    "2. Hay espacios en algunos encabezados.\n",
    "3. `EL Identificador userID deberia existir un espacio entre user e ID y teniendo en cuenta los problemas 1 y 2 quedaria (user_id)`.\n",
    "\n",
    "\n"
   ]
  },
  {
   "cell_type": "markdown",
   "metadata": {
    "id": "MCB6-dXG_Zct"
   },
   "source": [
    "### Observacion general \n",
    "Se puede ver en multiples columnas que existen valores ausentes , el cual deberan ser tratados para el posterior analisis.\n",
    "De igual manera se observa que es una tabla que contiene 65079 filas."
   ]
  },
  {
   "cell_type": "markdown",
   "metadata": {
    "id": "3eL__vcwViOi"
   },
   "source": [
    "[Volver a Contenidos](#back)"
   ]
  },
  {
   "cell_type": "markdown",
   "metadata": {
    "id": "SjYF6Ub9_Zct"
   },
   "source": [
    "## Etapa 2. Preprocesamiento de datos <a id='data_preprocessing'></a>\n",
    "\n",
    "El objetivo aquí es preparar los datos para que sean analizados.\n",
    "El primer paso es resolver cualquier problema con los encabezados. Luego se podrra avanzar a los valores ausentes y duplicados.\n",
    "\n"
   ]
  },
  {
   "cell_type": "markdown",
   "metadata": {
    "id": "dIaKXr29_Zct"
   },
   "source": [
    "### Estilo del encabezado <a id='header_style'></a>\n",
    "Se muestran los emcabezados de la tabla."
   ]
  },
  {
   "cell_type": "code",
   "execution_count": 31,
   "metadata": {
    "id": "oKOTdF_Q_Zct"
   },
   "outputs": [
    {
     "data": {
      "text/plain": [
       "Index(['  userID', 'Track', 'artist', 'genre', '  City  ', 'time', 'Day'], dtype='object')"
      ]
     },
     "execution_count": 31,
     "metadata": {},
     "output_type": "execute_result"
    }
   ],
   "source": [
    "# Se usa el metodo columns \n",
    "df.columns"
   ]
  },
  {
   "cell_type": "markdown",
   "metadata": {},
   "source": [
    "En esta primera parte se puede ver que se tienen titulos con mayuscula , otros con minusculas , de igual manera con espacios entre ellos. Se aplicaran las siguientes reglas para los emcabezados. "
   ]
  },
  {
   "cell_type": "markdown",
   "metadata": {
    "id": "zj5534cv_Zct"
   },
   "source": [
    "\n",
    "* Todos los caracteres deben ser minúsculas.\n",
    "* Elimina los espacios.\n",
    "* Si el nombre tiene varias palabras, utiliza snake_case."
   ]
  },
  {
   "cell_type": "markdown",
   "metadata": {
    "id": "Xu0zkfe5zNJe"
   },
   "source": [
    "Para tener las mismas reglas en todo los titulos , se utilizara un buble el cual permita aplicar los distintos metodos para los cambios.\n"
   ]
  },
  {
   "cell_type": "code",
   "execution_count": 32,
   "metadata": {
    "id": "6I_RwwMhzM4e"
   },
   "outputs": [
    {
     "name": "stdout",
     "output_type": "stream",
     "text": [
      "Index(['userid', 'track', 'artist', 'genre', 'city', 'time', 'day'], dtype='object')\n"
     ]
    }
   ],
   "source": [
    "# Bucle en los encabezados poniendo todo en minúsculas\n",
    "\n",
    "columns_lower=[] #lista donde se almacenara la columna con los datos corregidos\n",
    "for old_columns in df: #ciclo for para poder convertir los datos a minuscula \n",
    "    new_columns=old_columns.lower() #se convierten en minuscula usando el metodo lower\n",
    "    strip_columns=new_columns.strip() # se quita el espacio \n",
    "    columns_lower.append(strip_columns) #se asigna los valores a la nueva lista \n",
    "df.columns=columns_lower #y se asigna la nueva columna a la vieja columna \n",
    "print(df.columns)\n",
    "    "
   ]
  },
  {
   "cell_type": "markdown",
   "metadata": {
    "id": "yCb8MW1JzURd"
   },
   "source": [
    "Ahora se necesita  aplicar la regla de snake_case a la columna `userid`. Debe ser `user_id`."
   ]
  },
  {
   "cell_type": "code",
   "execution_count": 33,
   "metadata": {
    "id": "ISlFqs5y_Zct"
   },
   "outputs": [
    {
     "data": {
      "text/plain": [
       "Index(['user_id', 'track', 'artist', 'genre', 'city', 'time', 'day'], dtype='object')"
      ]
     },
     "execution_count": 33,
     "metadata": {},
     "output_type": "execute_result"
    }
   ],
   "source": [
    "# Cambiar el nombre de la columna \"userid\"\n",
    "#se crea un diccionario donde se tenga las palabras que se quieran cambiar en este caso la de userid\n",
    "rename={\n",
    "\"userid\":\"user_id\"\n",
    "}\n",
    "#se asigna el diccionario a columns y usando inplace=True no hay necesidad de reasignar \n",
    "df.rename(columns=rename,inplace=True)\n",
    "#y se muestran las columnas ya corregias.\n",
    "df.columns"
   ]
  },
  {
   "cell_type": "markdown",
   "metadata": {
    "id": "xYJk6ksJVpOl"
   },
   "source": [
    "[Volver a Contenidos](#back)"
   ]
  },
  {
   "cell_type": "markdown",
   "metadata": {
    "id": "5ISfbcfY_Zct"
   },
   "source": [
    "### Valores ausentes <a id='missing_values'></a>\n",
    " A continuacion se procedera a encontrar los valores ausentes existentes y el tratamiento de los mismos."
   ]
  },
  {
   "cell_type": "code",
   "execution_count": 34,
   "metadata": {
    "id": "RskX29qr_Zct"
   },
   "outputs": [
    {
     "data": {
      "text/plain": [
       "user_id       0\n",
       "track      1343\n",
       "artist     7567\n",
       "genre      1198\n",
       "city          0\n",
       "time          0\n",
       "day           0\n",
       "dtype: int64"
      ]
     },
     "execution_count": 34,
     "metadata": {},
     "output_type": "execute_result"
    }
   ],
   "source": [
    "# Se usa el metodo isna seguido del metodo sum.\n",
    "df.isna().sum()"
   ]
  },
  {
   "cell_type": "markdown",
   "metadata": {
    "id": "qubhgnlO_Zct"
   },
   "source": [
    "No todos los valores ausentes afectan a la investigación. Por ejemplo, los valores ausentes en `track` y `artist` no son cruciales. Simplemente se los  reemplazara con valores predeterminados como el string `'unknown'` (desconocido).\n",
    "\n",
    "Pero los valores ausentes en `'genre'` pueden afectar la comparación entre las preferencias musicales de Springfield y Shelbyville. En la vida real, sería útil saber las razones por las cuales hay datos ausentes e intentar recuperarlos. "
   ]
  },
  {
   "cell_type": "markdown",
   "metadata": {
    "id": "fSv2laPA_Zct"
   },
   "source": [
    "Reemplazando los valores ausentes en las columnas `'track'`, `'artist'` y `'genre'` con el string `'unknown'`."
   ]
  },
  {
   "cell_type": "code",
   "execution_count": 50,
   "metadata": {
    "id": "KplB5qWs_Zct"
   },
   "outputs": [],
   "source": [
    "# Bucle en los encabezados reemplazando los valores ausentes con 'unknown'\n",
    "#lista donde se muestren las columans donde estan los valores ausentes\n",
    "empty_column=['track',\"artist\",\"genre\"]\n",
    "for new in empty_column: #ciclo for que recorra las columnas\n",
    "    df[new]=df[new].fillna(\"unkown\") #se reemplaza los valores vacios por el string \"unkown\"\n",
    "\n"
   ]
  },
  {
   "cell_type": "code",
   "execution_count": 36,
   "metadata": {
    "id": "Tq4nYRX4_Zct"
   },
   "outputs": [
    {
     "data": {
      "text/plain": [
       "user_id    0\n",
       "track      0\n",
       "artist     0\n",
       "genre      0\n",
       "city       0\n",
       "time       0\n",
       "day        0\n",
       "dtype: int64"
      ]
     },
     "execution_count": 36,
     "metadata": {},
     "output_type": "execute_result"
    }
   ],
   "source": [
    "# Se muestra en pantalla que no existen valores ausentes.\n",
    "df.isna().sum()"
   ]
  },
  {
   "cell_type": "markdown",
   "metadata": {
    "id": "74ZIBmq9VrsK"
   },
   "source": [
    "[Volver a Contenidos](#back)"
   ]
  },
  {
   "cell_type": "markdown",
   "metadata": {
    "id": "BWKRtBJ3_Zct"
   },
   "source": [
    "### Duplicados <a id='duplicates'></a>\n",
    "Ahora se procedera a contar los valores duplicados existentes en todo la tabla."
   ]
  },
  {
   "cell_type": "code",
   "execution_count": 37,
   "metadata": {
    "id": "36eES_S0_Zct"
   },
   "outputs": [
    {
     "data": {
      "text/plain": [
       "np.int64(3826)"
      ]
     },
     "execution_count": 37,
     "metadata": {},
     "output_type": "execute_result"
    }
   ],
   "source": [
    "# Contar duplicados explícitos\n",
    "df.duplicated().sum()"
   ]
  },
  {
   "cell_type": "markdown",
   "metadata": {
    "id": "Ot25h6XR_Zct"
   },
   "source": [
    "Ahora, eliminamos todos los duplicados explicitos , usando el metodo drop_duplicates."
   ]
  },
  {
   "cell_type": "code",
   "execution_count": 38,
   "metadata": {
    "id": "exFHq6tt_Zct"
   },
   "outputs": [
    {
     "name": "stdout",
     "output_type": "stream",
     "text": [
      "0\n"
     ]
    }
   ],
   "source": [
    "# Eliminar duplicados explícitos \n",
    "#este metodo elimina los duplicados explicitos y ademas elimina la columna que se creara con los indices erroneos \n",
    "df=df.drop_duplicates().reset_index(drop=True) \n",
    "#Mostramos por pantalla si existen valores duplicados.\n",
    "print(df.duplicated().sum())\n"
   ]
  },
  {
   "cell_type": "markdown",
   "metadata": {
    "id": "QlFBsxAr_Zct"
   },
   "source": [
    "Ahora se va a eliminar  los duplicados implícitos en la columna `genre`. Por ejemplo, el nombre de un género se puede escribir de varias formas. Dichos errores también pueden afectar al resultado."
   ]
  },
  {
   "cell_type": "markdown",
   "metadata": {
    "id": "eSjWwsOh_Zct"
   },
   "source": [
    "Para hacerlo, primero se mostrara una lista de nombres de género únicos, ordenados en orden alfabético. Para ello:\n",
    "\n"
   ]
  },
  {
   "cell_type": "code",
   "execution_count": 39,
   "metadata": {
    "id": "JIUcqzZN_Zct"
   },
   "outputs": [
    {
     "data": {
      "text/plain": [
       "array(['acid', 'acoustic', 'action', 'adult', 'africa', 'afrikaans',\n",
       "       'alternative', 'ambient', 'americana', 'animated', 'anime',\n",
       "       'arabesk', 'arabic', 'arena', 'argentinetango', 'art', 'audiobook',\n",
       "       'avantgarde', 'axé', 'baile', 'balkan', 'beats', 'bigroom',\n",
       "       'black', 'bluegrass', 'blues', 'bollywood', 'bossa', 'brazilian',\n",
       "       'breakbeat', 'breaks', 'broadway', 'cantautori', 'cantopop',\n",
       "       'canzone', 'caribbean', 'caucasian', 'celtic', 'chamber',\n",
       "       'children', 'chill', 'chinese', 'choral', 'christian', 'christmas',\n",
       "       'classical', 'classicmetal', 'club', 'colombian', 'comedy',\n",
       "       'conjazz', 'contemporary', 'country', 'cuban', 'dance',\n",
       "       'dancehall', 'dancepop', 'dark', 'death', 'deep', 'deutschrock',\n",
       "       'deutschspr', 'dirty', 'disco', 'dnb', 'documentary', 'downbeat',\n",
       "       'downtempo', 'drum', 'dub', 'dubstep', 'eastern', 'easy',\n",
       "       'electronic', 'electropop', 'emo', 'entehno', 'epicmetal',\n",
       "       'estrada', 'ethnic', 'eurofolk', 'european', 'experimental',\n",
       "       'extrememetal', 'fado', 'film', 'fitness', 'flamenco', 'folk',\n",
       "       'folklore', 'folkmetal', 'folkrock', 'folktronica', 'forró',\n",
       "       'frankreich', 'französisch', 'french', 'funk', 'future', 'gangsta',\n",
       "       'garage', 'german', 'ghazal', 'gitarre', 'glitch', 'gospel',\n",
       "       'gothic', 'grime', 'grunge', 'gypsy', 'handsup', \"hard'n'heavy\",\n",
       "       'hardcore', 'hardstyle', 'hardtechno', 'hip', 'hip-hop', 'hiphop',\n",
       "       'historisch', 'holiday', 'hop', 'horror', 'house', 'idm',\n",
       "       'independent', 'indian', 'indie', 'indipop', 'industrial',\n",
       "       'inspirational', 'instrumental', 'international', 'irish', 'jam',\n",
       "       'japanese', 'jazz', 'jewish', 'jpop', 'jungle', 'k-pop',\n",
       "       'karadeniz', 'karaoke', 'kayokyoku', 'korean', 'laiko', 'latin',\n",
       "       'latino', 'leftfield', 'local', 'lounge', 'loungeelectronic',\n",
       "       'lovers', 'malaysian', 'mandopop', 'marschmusik', 'meditative',\n",
       "       'mediterranean', 'melodic', 'metal', 'metalcore', 'mexican',\n",
       "       'middle', 'minimal', 'miscellaneous', 'modern', 'mood', 'mpb',\n",
       "       'muslim', 'native', 'neoklassik', 'neue', 'new', 'newage',\n",
       "       'newwave', 'nu', 'nujazz', 'numetal', 'oceania', 'old', 'opera',\n",
       "       'orchestral', 'other', 'piano', 'pop', 'popelectronic',\n",
       "       'popeurodance', 'post', 'posthardcore', 'postrock', 'power',\n",
       "       'progmetal', 'progressive', 'psychedelic', 'punjabi', 'punk',\n",
       "       'quebecois', 'ragga', 'ram', 'rancheras', 'rap', 'rave', 'reggae',\n",
       "       'reggaeton', 'regional', 'relax', 'religious', 'retro', 'rhythm',\n",
       "       'rnb', 'rnr', 'rock', 'rockabilly', 'romance', 'roots', 'ruspop',\n",
       "       'rusrap', 'rusrock', 'salsa', 'samba', 'schlager', 'self',\n",
       "       'sertanejo', 'shoegazing', 'showtunes', 'singer', 'ska', 'slow',\n",
       "       'smooth', 'soul', 'soulful', 'sound', 'soundtrack', 'southern',\n",
       "       'specialty', 'speech', 'spiritual', 'sport', 'stonerrock', 'surf',\n",
       "       'swing', 'synthpop', 'sängerportrait', 'tango', 'tanzorchester',\n",
       "       'taraftar', 'tech', 'techno', 'thrash', 'top', 'traditional',\n",
       "       'tradjazz', 'trance', 'tribal', 'trip', 'triphop', 'tropical',\n",
       "       'türk', 'türkçe', 'unkown', 'urban', 'uzbek', 'variété', 'vi',\n",
       "       'videogame', 'vocal', 'western', 'world', 'worldbeat', 'ïîï'],\n",
       "      dtype=object)"
      ]
     },
     "execution_count": 39,
     "metadata": {},
     "output_type": "execute_result"
    }
   ],
   "source": [
    "# Inspeccionar los nombres de géneros únicos\n",
    "column_genre=df[\"genre\"].sort_values() #creo una variable para almacenar la columna genre y ordenarla de forma alfabetica\n",
    "column_genre.unique() #muestro todos los valores unicos que tiene que tiene la columna "
   ]
  },
  {
   "cell_type": "markdown",
   "metadata": {
    "id": "qej-Qmuo_Zct"
   },
   "source": [
    "Se puede observar que existen ciertos duplicados implicitos. El cual seran tratados para convertirlo en uno solo.\n",
    "\n",
    "Verás los siguientes duplicados implícitos:\n",
    "* `hip`\n",
    "* `hop`\n",
    "* `hip-hop`\n",
    "\n",
    "Para ello, se  crea una función llamada `replace_wrong_genres()` con dos parámetros:\n",
    "* `wrong_genres=`: esta es una lista que contiene todos los valores que necesitan ser reemplazados.\n",
    "* `correct_genre=`: este es un string que se va  a utilizar como reemplazo.\n"
   ]
  },
  {
   "cell_type": "code",
   "execution_count": 40,
   "metadata": {
    "id": "ErNDkmns_Zct"
   },
   "outputs": [],
   "source": [
    "# Función para reemplazar duplicados implícitos\n",
    "#defino la funcion \n",
    "def replace_wrong_genres(wrong_genres,correct_genre):\n",
    "    for correct in wrong_genres: #creo una iteracion que recorrera todos los valores mal escritos \n",
    "        df[\"genre\"]=df[\"genre\"].replace(correct,correct_genre) #accedo a la columna genre el cual reemplazare todos los valores de correct por correct_genre\n",
    "    return column_genre\n",
    "\n"
   ]
  },
  {
   "cell_type": "markdown",
   "metadata": {
    "id": "aDoBJxbA_Zct"
   },
   "source": [
    "Ahora, llama a `replace_wrong_genres()` y pásale tales argumentos para que retire los duplicados implícitos (`hip`, `hop` y `hip-hop`) y los reemplace por `hiphop`:"
   ]
  },
  {
   "cell_type": "code",
   "execution_count": 41,
   "metadata": {
    "id": "YN5i2hpmSo09"
   },
   "outputs": [],
   "source": [
    "# Eliminar duplicados implícitos\n",
    "wrong_values=[\"hip\",\"hop\",\"hip-hop\"] #lista de todos los valores mal escritos \n",
    "new_values=\"hiphop\" #nuevo string por reemplazar \n",
    "new_genre=replace_wrong_genres(wrong_values,new_values)"
   ]
  },
  {
   "cell_type": "markdown",
   "metadata": {
    "id": "zQKF16_RG15m"
   },
   "source": [
    "Ahora nos aseguramos que los duplicados implicitos fueron reemplazados correctamente."
   ]
  },
  {
   "cell_type": "code",
   "execution_count": 19,
   "metadata": {
    "id": "wvixALnFG15m"
   },
   "outputs": [
    {
     "data": {
      "text/plain": [
       "array(['acid', 'acoustic', 'action', 'adult', 'africa', 'afrikaans',\n",
       "       'alternative', 'ambient', 'americana', 'animated', 'anime',\n",
       "       'arabesk', 'arabic', 'arena', 'argentinetango', 'art', 'audiobook',\n",
       "       'avantgarde', 'axé', 'baile', 'balkan', 'beats', 'bigroom',\n",
       "       'black', 'bluegrass', 'blues', 'bollywood', 'bossa', 'brazilian',\n",
       "       'breakbeat', 'breaks', 'broadway', 'cantautori', 'cantopop',\n",
       "       'canzone', 'caribbean', 'caucasian', 'celtic', 'chamber',\n",
       "       'children', 'chill', 'chinese', 'choral', 'christian', 'christmas',\n",
       "       'classical', 'classicmetal', 'club', 'colombian', 'comedy',\n",
       "       'conjazz', 'contemporary', 'country', 'cuban', 'dance',\n",
       "       'dancehall', 'dancepop', 'dark', 'death', 'deep', 'deutschrock',\n",
       "       'deutschspr', 'dirty', 'disco', 'dnb', 'documentary', 'downbeat',\n",
       "       'downtempo', 'drum', 'dub', 'dubstep', 'eastern', 'easy',\n",
       "       'electronic', 'electropop', 'emo', 'entehno', 'epicmetal',\n",
       "       'estrada', 'ethnic', 'eurofolk', 'european', 'experimental',\n",
       "       'extrememetal', 'fado', 'film', 'fitness', 'flamenco', 'folk',\n",
       "       'folklore', 'folkmetal', 'folkrock', 'folktronica', 'forró',\n",
       "       'frankreich', 'französisch', 'french', 'funk', 'future', 'gangsta',\n",
       "       'garage', 'german', 'ghazal', 'gitarre', 'glitch', 'gospel',\n",
       "       'gothic', 'grime', 'grunge', 'gypsy', 'handsup', \"hard'n'heavy\",\n",
       "       'hardcore', 'hardstyle', 'hardtechno', 'hiphop', 'historisch',\n",
       "       'holiday', 'horror', 'house', 'idm', 'independent', 'indian',\n",
       "       'indie', 'indipop', 'industrial', 'inspirational', 'instrumental',\n",
       "       'international', 'irish', 'jam', 'japanese', 'jazz', 'jewish',\n",
       "       'jpop', 'jungle', 'k-pop', 'karadeniz', 'karaoke', 'kayokyoku',\n",
       "       'korean', 'laiko', 'latin', 'latino', 'leftfield', 'local',\n",
       "       'lounge', 'loungeelectronic', 'lovers', 'malaysian', 'mandopop',\n",
       "       'marschmusik', 'meditative', 'mediterranean', 'melodic', 'metal',\n",
       "       'metalcore', 'mexican', 'middle', 'minimal', 'miscellaneous',\n",
       "       'modern', 'mood', 'mpb', 'muslim', 'native', 'neoklassik', 'neue',\n",
       "       'new', 'newage', 'newwave', 'nu', 'nujazz', 'numetal', 'oceania',\n",
       "       'old', 'opera', 'orchestral', 'other', 'piano', 'pop',\n",
       "       'popelectronic', 'popeurodance', 'post', 'posthardcore',\n",
       "       'postrock', 'power', 'progmetal', 'progressive', 'psychedelic',\n",
       "       'punjabi', 'punk', 'quebecois', 'ragga', 'ram', 'rancheras', 'rap',\n",
       "       'rave', 'reggae', 'reggaeton', 'regional', 'relax', 'religious',\n",
       "       'retro', 'rhythm', 'rnb', 'rnr', 'rock', 'rockabilly', 'romance',\n",
       "       'roots', 'ruspop', 'rusrap', 'rusrock', 'salsa', 'samba',\n",
       "       'schlager', 'self', 'sertanejo', 'shoegazing', 'showtunes',\n",
       "       'singer', 'ska', 'slow', 'smooth', 'soul', 'soulful', 'sound',\n",
       "       'soundtrack', 'southern', 'specialty', 'speech', 'spiritual',\n",
       "       'sport', 'stonerrock', 'surf', 'swing', 'synthpop',\n",
       "       'sängerportrait', 'tango', 'tanzorchester', 'taraftar', 'tech',\n",
       "       'techno', 'thrash', 'top', 'traditional', 'tradjazz', 'trance',\n",
       "       'tribal', 'trip', 'triphop', 'tropical', 'türk', 'türkçe',\n",
       "       'unkown', 'urban', 'uzbek', 'variété', 'vi', 'videogame', 'vocal',\n",
       "       'western', 'world', 'worldbeat', 'ïîï'], dtype=object)"
      ]
     },
     "execution_count": 19,
     "metadata": {},
     "output_type": "execute_result"
    }
   ],
   "source": [
    "# Comprobación de duplicados implícitos\n",
    "column_genre=df[\"genre\"].sort_values()\n",
    "column_genre.unique()\n"
   ]
  },
  {
   "cell_type": "markdown",
   "metadata": {
    "id": "ALgNbvF3VtPA"
   },
   "source": [
    "[Volver a Contenidos](#back)"
   ]
  },
  {
   "cell_type": "markdown",
   "metadata": {
    "id": "jz6a9-7HQUDd"
   },
   "source": [
    "### Tus observaciones <a id='data_preprocessing_conclusions'></a>\n",
    "\n",
    "`Describe brevemente lo que has notado al analizar duplicados, cómo abordaste sus eliminaciones y qué resultados obtuviste.`\n",
    "En este primer analisis explotario se encontraron algunas novedades.\n",
    "1) Existe una gran cantidad de valores nulos en las columnas 'track', 'artist' y 'genre' por lo que se necesita corroborar esta informacion para no descartar informacion valiosa al analiarla.\n",
    "2) Otro punto a tomar en cuenta es que se encontraron exactamente una cantidad de 3826 duplicados explicitos, el cual se procedio a la eliminacion para no tener resultados erroneos. \n",
    "3) De igual manera se encontraron ciertos valores en la columna de genre que representan duplicados implicitos el cual tambien a la informacion proporcionado se efectuo el respectivo cambio.\n",
    "Con estas observaciones se continua con el respectivo analisis. \n",
    "\n"
   ]
  },
  {
   "cell_type": "markdown",
   "metadata": {
    "id": "eK1es74rVujj"
   },
   "source": [
    "[Volver a Contenidos](#back)"
   ]
  },
  {
   "cell_type": "markdown",
   "metadata": {
    "id": "WttZHXH0SqKk"
   },
   "source": [
    "## Etapa 3. Prueba de hipótesis <a id='hypothesis'></a>"
   ]
  },
  {
   "cell_type": "markdown",
   "metadata": {
    "id": "Im936VVi_Zcu"
   },
   "source": [
    "### Hipótesis: comparar el comportamiento del usuario o la usuaria en las dos ciudades <a id='activity'></a>"
   ]
  },
  {
   "cell_type": "markdown",
   "metadata": {
    "id": "nwt_MuaL_Zcu"
   },
   "source": [
    "La hipótesis afirma que existen diferencias en la forma en que los usuarios y las usuarias de Springfield y Shelbyville consumen música. Para comprobar esto, Se usaran los datos de tres días de la semana: lunes, miércoles y viernes.\n",
    "\n",
    "* Primero se agruparan a los usuarios y las usuarias por ciudad.\n",
    "* Luego se comparara el número de canciones que cada grupo reprodujo el lunes, el miércoles y el viernes.\n"
   ]
  },
  {
   "cell_type": "markdown",
   "metadata": {
    "id": "8Dw_YMmT_Zcu"
   },
   "source": [
    "Agrupamos para continuar con el analisis \n"
   ]
  },
  {
   "cell_type": "code",
   "execution_count": 45,
   "metadata": {
    "id": "0_Qs96oh_Zcu"
   },
   "outputs": [
    {
     "data": {
      "text/html": [
       "<div>\n",
       "<style scoped>\n",
       "    .dataframe tbody tr th:only-of-type {\n",
       "        vertical-align: middle;\n",
       "    }\n",
       "\n",
       "    .dataframe tbody tr th {\n",
       "        vertical-align: top;\n",
       "    }\n",
       "\n",
       "    .dataframe thead th {\n",
       "        text-align: right;\n",
       "    }\n",
       "</style>\n",
       "<table border=\"1\" class=\"dataframe\">\n",
       "  <thead>\n",
       "    <tr style=\"text-align: right;\">\n",
       "      <th></th>\n",
       "      <th>city</th>\n",
       "      <th>track</th>\n",
       "    </tr>\n",
       "  </thead>\n",
       "  <tbody>\n",
       "    <tr>\n",
       "      <th>0</th>\n",
       "      <td>Shelbyville</td>\n",
       "      <td>18512</td>\n",
       "    </tr>\n",
       "    <tr>\n",
       "      <th>1</th>\n",
       "      <td>Springfield</td>\n",
       "      <td>42741</td>\n",
       "    </tr>\n",
       "  </tbody>\n",
       "</table>\n",
       "</div>"
      ],
      "text/plain": [
       "          city  track\n",
       "0  Shelbyville  18512\n",
       "1  Springfield  42741"
      ]
     },
     "execution_count": 45,
     "metadata": {},
     "output_type": "execute_result"
    }
   ],
   "source": [
    "# Contar las canciones reproducidas en cada ciudad\n",
    "df_city=df.groupby(by='city')['track'].count().reset_index() # se usa el metodo groupby, para poder  agrupar los valores de city y compararlos con el numero de tracks\n",
    "df_city\n"
   ]
  },
  {
   "cell_type": "markdown",
   "metadata": {
    "id": "t_Qx-3NewAnK"
   },
   "source": [
    "`Se observa que en la cuidad de springfield hay mas del dobl de canciones reproducidas que las de shelbyville`"
   ]
  },
  {
   "cell_type": "markdown",
   "metadata": {
    "id": "dzli3w8o_Zcu"
   },
   "source": [
    "Ahora agrupemos los datos por día de la semana y encontremos el número de canciones reproducidas el lunes, miércoles y viernes. Utiliza el mismo método que antes, pero ahora necesitamos una agrupación diferente.\n"
   ]
  },
  {
   "cell_type": "code",
   "execution_count": 46,
   "metadata": {
    "id": "uZMKjiJz_Zcu"
   },
   "outputs": [
    {
     "data": {
      "text/html": [
       "<div>\n",
       "<style scoped>\n",
       "    .dataframe tbody tr th:only-of-type {\n",
       "        vertical-align: middle;\n",
       "    }\n",
       "\n",
       "    .dataframe tbody tr th {\n",
       "        vertical-align: top;\n",
       "    }\n",
       "\n",
       "    .dataframe thead th {\n",
       "        text-align: right;\n",
       "    }\n",
       "</style>\n",
       "<table border=\"1\" class=\"dataframe\">\n",
       "  <thead>\n",
       "    <tr style=\"text-align: right;\">\n",
       "      <th></th>\n",
       "      <th>day</th>\n",
       "      <th>track</th>\n",
       "    </tr>\n",
       "  </thead>\n",
       "  <tbody>\n",
       "    <tr>\n",
       "      <th>0</th>\n",
       "      <td>Friday</td>\n",
       "      <td>21840</td>\n",
       "    </tr>\n",
       "    <tr>\n",
       "      <th>1</th>\n",
       "      <td>Monday</td>\n",
       "      <td>21354</td>\n",
       "    </tr>\n",
       "    <tr>\n",
       "      <th>2</th>\n",
       "      <td>Wednesday</td>\n",
       "      <td>18059</td>\n",
       "    </tr>\n",
       "  </tbody>\n",
       "</table>\n",
       "</div>"
      ],
      "text/plain": [
       "         day  track\n",
       "0     Friday  21840\n",
       "1     Monday  21354\n",
       "2  Wednesday  18059"
      ]
     },
     "execution_count": 46,
     "metadata": {},
     "output_type": "execute_result"
    }
   ],
   "source": [
    "# Calcular las canciones reproducidas en cada uno de los tres días\n",
    "df_day=df.groupby(by='day')['track'].count().reset_index() #se repite lo mismo que el paso anterior pero esta ves se compara los tracks con el numero de dias\n",
    "df_day"
   ]
  },
  {
   "cell_type": "markdown",
   "metadata": {
    "id": "cC2tNrlL_Zcu"
   },
   "source": [
    "`Se observa que el dia viernes es uno de los dias que mas se escucha musica , seguido del lunes. Mientras que el dia miercoles es el dia que menos tracks se reproducen`"
   ]
  },
  {
   "cell_type": "markdown",
   "metadata": {
    "id": "POzs8bGa_Zcu"
   },
   "source": [
    "\n",
    "\n",
    "Después de filtrar los datos por dos criterios, se contara el numero de valores de la columna 'user_id' en la tabla resultante. Este recuento representa el número de entradas que se esta buscando. Para esto se usara una funcion number_tracks "
   ]
  },
  {
   "cell_type": "code",
   "execution_count": 22,
   "metadata": {
    "id": "Nz3GdQB1_Zcu"
   },
   "outputs": [],
   "source": [
    "# Declara la función number_tracks() con dos parámetros: day= y city=.\n",
    "def number_tracks (day,city): #se inicia la funcion la cual \n",
    "    # Almacena las filas del DataFrame donde el valor en la columna 'day' es igual al parámetro day=\n",
    "    new_frame=df[df['day']==day] #en la variable new_frame se almacenara las filas de los filtrados por medio de days\n",
    "    # Filtra las filas donde el valor en la columna 'city' es igual al parámetro city=\n",
    "    new_frame2=new_frame[new_frame['city']==city]# en la variable new_frame2 se filtrara el new_frame ahora por la city dada\n",
    "    # Extrae la columna 'user_id' de la tabla filtrada y aplica el método count()\n",
    "    new_frame3=new_frame2['user_id'].count() #se cuentan las columnas user_id del dataframe new_frame2 para saber la cantidad de usuarios \n",
    "    # Devolve el número de valores de la columna 'user_id'\n",
    "    return new_frame3"
   ]
  },
  {
   "cell_type": "markdown",
   "metadata": {
    "id": "ytf7xFrFJQ2r"
   },
   "source": [
    "Se llama a  a `number_tracks()` seis veces, cambiando los valores de los parámetros para que recupererar los datos de ambas ciudades para cada uno de los tres días."
   ]
  },
  {
   "cell_type": "code",
   "execution_count": 23,
   "metadata": {
    "id": "rJcRATNQ_Zcu"
   },
   "outputs": [
    {
     "data": {
      "text/plain": [
       "15740"
      ]
     },
     "execution_count": 23,
     "metadata": {},
     "output_type": "execute_result"
    }
   ],
   "source": [
    "# El número de canciones reproducidas en Springfield el lunes\n",
    "number_tracks(\"Monday\",\"Springfield\")\n"
   ]
  },
  {
   "cell_type": "code",
   "execution_count": 24,
   "metadata": {
    "id": "hq_ncZ5T_Zcu"
   },
   "outputs": [
    {
     "data": {
      "text/plain": [
       "5614"
      ]
     },
     "execution_count": 24,
     "metadata": {},
     "output_type": "execute_result"
    }
   ],
   "source": [
    "# El número de canciones reproducidas en Shelbyville el lunes\n",
    "number_tracks(\"Monday\",'Shelbyville')"
   ]
  },
  {
   "cell_type": "code",
   "execution_count": 25,
   "metadata": {
    "id": "_NTy2VPU_Zcu"
   },
   "outputs": [
    {
     "data": {
      "text/plain": [
       "11056"
      ]
     },
     "execution_count": 25,
     "metadata": {},
     "output_type": "execute_result"
    }
   ],
   "source": [
    "# El número de canciones reproducidas en Springfield el miércoles\n",
    "number_tracks('Wednesday','Springfield')"
   ]
  },
  {
   "cell_type": "code",
   "execution_count": 26,
   "metadata": {
    "id": "j2y3TAwo_Zcu"
   },
   "outputs": [
    {
     "data": {
      "text/plain": [
       "7003"
      ]
     },
     "execution_count": 26,
     "metadata": {},
     "output_type": "execute_result"
    }
   ],
   "source": [
    "# El número de canciones reproducidas en Shelbyville el miércoles\n",
    "number_tracks('Wednesday','Shelbyville')"
   ]
  },
  {
   "cell_type": "code",
   "execution_count": 27,
   "metadata": {
    "id": "vYDw5u_K_Zcu"
   },
   "outputs": [
    {
     "data": {
      "text/plain": [
       "15945"
      ]
     },
     "execution_count": 27,
     "metadata": {},
     "output_type": "execute_result"
    }
   ],
   "source": [
    "# El número de canciones reproducidas en Springfield el viernes\n",
    "number_tracks('Friday','Springfield')"
   ]
  },
  {
   "cell_type": "code",
   "execution_count": 28,
   "metadata": {
    "id": "8_yzFtW3_Zcu"
   },
   "outputs": [
    {
     "data": {
      "text/plain": [
       "5895"
      ]
     },
     "execution_count": 28,
     "metadata": {},
     "output_type": "execute_result"
    }
   ],
   "source": [
    "# El número de canciones reproducidas en Shelbyville el viernes\n",
    "number_tracks('Friday','Shelbyville')"
   ]
  },
  {
   "cell_type": "markdown",
   "metadata": {
    "id": "-EgPIHYu_Zcu"
   },
   "source": [
    "**Conclusiones**\n",
    "\n",
    "`Comenta si la hipótesis es correcta o se debe rechazar. Explica tu razonamiento.`\n",
    "\n",
    "A partir del análisis exploratorio de los datos, se observan patrones distintos en la reproducción musical entre las ciudades de Springfield y Shelbyville. Aunque los lunes y viernes muestran un comportamiento similar en la cantidad de usuarios que escuchan música en ambas ciudades, el miércoles presenta una variabilidad significativa, lo que sugiere que no debe ser ignorado en el análisis. Además, Springfield muestra consistentemente un mayor número de usuarios que reproducen música en comparación con Shelbyville, especialmente en los días lunes, miércoles y viernes, lo que evidencia diferencias notables en el comportamiento musical entre ambas ciudades.\n",
    "\n",
    "Dado este análisis, se acepta la hipótesis de que el comportamiento de los usuarios varía según la ciudad y el día de la semana. Sin embargo, para conclusiones más robustas, se recomienda un conjunto de datos más amplio que incluya otros días de la semana y períodos adicionales para validar estos hallazgos.\n"
   ]
  }
 ],
 "metadata": {
  "ExecuteTimeLog": [
   {
    "duration": 15,
    "start_time": "2024-06-28T16:29:34.654Z"
   },
   {
    "duration": 6,
    "start_time": "2024-06-28T16:29:41.461Z"
   },
   {
    "duration": 8,
    "start_time": "2024-06-28T16:29:45.041Z"
   },
   {
    "duration": 6,
    "start_time": "2024-06-28T16:30:03.967Z"
   },
   {
    "duration": 6,
    "start_time": "2024-06-28T16:30:25.976Z"
   },
   {
    "duration": 5,
    "start_time": "2024-06-28T16:30:31.716Z"
   },
   {
    "duration": 6,
    "start_time": "2024-06-28T16:30:38.676Z"
   },
   {
    "duration": 389,
    "start_time": "2024-06-28T16:31:11.812Z"
   },
   {
    "duration": 505,
    "start_time": "2024-06-28T16:31:18.326Z"
   },
   {
    "duration": 818,
    "start_time": "2024-06-28T16:31:19.895Z"
   },
   {
    "duration": 157,
    "start_time": "2024-06-28T16:32:07.226Z"
   },
   {
    "duration": 156,
    "start_time": "2024-06-28T16:32:59.069Z"
   },
   {
    "duration": 164,
    "start_time": "2024-06-28T16:33:27.808Z"
   },
   {
    "duration": 121,
    "start_time": "2024-06-28T16:34:03.946Z"
   },
   {
    "duration": 124,
    "start_time": "2024-06-28T16:36:09.780Z"
   },
   {
    "duration": 193,
    "start_time": "2024-06-28T16:36:13.201Z"
   },
   {
    "duration": 161,
    "start_time": "2024-06-28T16:36:15.777Z"
   },
   {
    "duration": 178,
    "start_time": "2024-06-28T16:36:19.640Z"
   },
   {
    "duration": 305,
    "start_time": "2024-06-29T04:24:56.703Z"
   },
   {
    "duration": 22,
    "start_time": "2024-06-29T04:25:15.100Z"
   },
   {
    "duration": 22,
    "start_time": "2024-06-29T04:25:18.374Z"
   },
   {
    "duration": 410,
    "start_time": "2024-06-29T04:25:20.990Z"
   },
   {
    "duration": 196,
    "start_time": "2024-06-29T04:25:22.375Z"
   },
   {
    "duration": 189,
    "start_time": "2024-06-29T04:25:24.798Z"
   },
   {
    "duration": 21,
    "start_time": "2024-06-29T04:25:26.439Z"
   },
   {
    "duration": 34,
    "start_time": "2024-06-29T04:26:03.388Z"
   },
   {
    "duration": 37,
    "start_time": "2024-06-29T04:34:10.372Z"
   },
   {
    "duration": 31,
    "start_time": "2024-06-29T04:34:16.088Z"
   },
   {
    "duration": 175,
    "start_time": "2024-06-29T04:35:55.257Z"
   },
   {
    "duration": 165,
    "start_time": "2024-06-29T04:37:05.273Z"
   },
   {
    "duration": 164,
    "start_time": "2024-06-29T04:37:23.350Z"
   },
   {
    "duration": 6,
    "start_time": "2024-06-29T04:43:53.950Z"
   },
   {
    "duration": 15,
    "start_time": "2024-07-01T19:35:02.106Z"
   },
   {
    "duration": 309,
    "start_time": "2024-07-01T19:37:53.745Z"
   },
   {
    "duration": 20,
    "start_time": "2024-07-01T19:37:59.241Z"
   },
   {
    "duration": 22,
    "start_time": "2024-07-01T19:38:03.323Z"
   },
   {
    "duration": 432,
    "start_time": "2024-07-01T19:38:06.674Z"
   },
   {
    "duration": 242,
    "start_time": "2024-07-01T19:38:07.752Z"
   },
   {
    "duration": 11,
    "start_time": "2024-07-01T19:38:10.338Z"
   },
   {
    "duration": 32,
    "start_time": "2024-07-01T19:38:12.583Z"
   },
   {
    "duration": 5,
    "start_time": "2024-07-01T19:38:17.110Z"
   },
   {
    "duration": 60,
    "start_time": "2024-07-01T19:38:20.377Z"
   },
   {
    "duration": 5,
    "start_time": "2024-07-01T19:38:35.000Z"
   },
   {
    "duration": 20,
    "start_time": "2024-07-01T19:38:42.513Z"
   },
   {
    "duration": 6,
    "start_time": "2024-07-01T19:38:46.873Z"
   },
   {
    "duration": 7,
    "start_time": "2024-07-01T19:38:52.573Z"
   },
   {
    "duration": 6,
    "start_time": "2024-07-01T19:39:00.836Z"
   },
   {
    "duration": 753,
    "start_time": "2024-07-01T19:39:28.317Z"
   },
   {
    "duration": 5,
    "start_time": "2024-07-01T19:39:51.472Z"
   },
   {
    "duration": 6,
    "start_time": "2024-07-01T19:40:10.923Z"
   },
   {
    "duration": 56,
    "start_time": "2024-07-01T19:40:25.538Z"
   },
   {
    "duration": 6,
    "start_time": "2024-07-01T19:40:29.877Z"
   },
   {
    "duration": 6,
    "start_time": "2024-07-01T19:41:16.464Z"
   },
   {
    "duration": 6,
    "start_time": "2024-07-01T19:41:35.759Z"
   },
   {
    "duration": 59,
    "start_time": "2024-07-01T19:41:41.618Z"
   },
   {
    "duration": 5,
    "start_time": "2024-07-01T19:41:46.181Z"
   },
   {
    "duration": 6,
    "start_time": "2024-07-01T19:41:52.606Z"
   },
   {
    "duration": 6,
    "start_time": "2024-07-01T19:43:22.632Z"
   },
   {
    "duration": 5,
    "start_time": "2024-07-01T19:44:50.558Z"
   },
   {
    "duration": 10,
    "start_time": "2024-07-01T19:44:59.166Z"
   },
   {
    "duration": 167,
    "start_time": "2024-07-01T19:45:02.518Z"
   },
   {
    "duration": 8,
    "start_time": "2024-07-01T19:45:04.302Z"
   },
   {
    "duration": 34,
    "start_time": "2024-07-01T19:45:05.858Z"
   },
   {
    "duration": 6,
    "start_time": "2024-07-01T19:45:08.563Z"
   },
   {
    "duration": 6,
    "start_time": "2024-07-01T19:45:10.311Z"
   },
   {
    "duration": 6,
    "start_time": "2024-07-01T19:47:25.282Z"
   },
   {
    "duration": 6,
    "start_time": "2024-07-01T19:47:39.357Z"
   },
   {
    "duration": 6,
    "start_time": "2024-07-01T19:48:08.742Z"
   },
   {
    "duration": 6,
    "start_time": "2024-07-01T19:49:31.743Z"
   },
   {
    "duration": 6,
    "start_time": "2024-07-01T19:49:35.934Z"
   },
   {
    "duration": 32,
    "start_time": "2024-07-01T19:49:41.842Z"
   },
   {
    "duration": 9,
    "start_time": "2024-07-01T19:49:44.926Z"
   },
   {
    "duration": 3,
    "start_time": "2024-07-01T19:49:48.199Z"
   },
   {
    "duration": 170,
    "start_time": "2024-07-01T19:49:49.126Z"
   },
   {
    "duration": 9,
    "start_time": "2024-07-01T19:49:51.773Z"
   },
   {
    "duration": 32,
    "start_time": "2024-07-01T19:49:54.350Z"
   },
   {
    "duration": 5,
    "start_time": "2024-07-01T19:49:58.487Z"
   },
   {
    "duration": 6,
    "start_time": "2024-07-01T19:50:02.868Z"
   },
   {
    "duration": 24,
    "start_time": "2024-07-01T19:51:14.770Z"
   },
   {
    "duration": 7,
    "start_time": "2024-07-01T19:51:24.750Z"
   },
   {
    "duration": 7,
    "start_time": "2024-07-01T19:55:11.341Z"
   },
   {
    "duration": 7,
    "start_time": "2024-07-01T19:56:09.775Z"
   },
   {
    "duration": 6,
    "start_time": "2024-07-01T19:56:23.244Z"
   },
   {
    "duration": 30,
    "start_time": "2024-07-01T19:58:01.502Z"
   },
   {
    "duration": 16,
    "start_time": "2024-07-01T20:02:25.953Z"
   },
   {
    "duration": 35,
    "start_time": "2024-07-01T20:02:34.042Z"
   },
   {
    "duration": 40,
    "start_time": "2024-07-01T20:02:38.246Z"
   },
   {
    "duration": 38,
    "start_time": "2024-07-01T20:04:04.877Z"
   },
   {
    "duration": 19,
    "start_time": "2024-07-01T20:04:31.924Z"
   },
   {
    "duration": 74,
    "start_time": "2024-07-01T20:04:34.821Z"
   },
   {
    "duration": 22,
    "start_time": "2024-07-01T20:06:12.198Z"
   },
   {
    "duration": 22,
    "start_time": "2024-07-01T20:06:17.224Z"
   },
   {
    "duration": 19,
    "start_time": "2024-07-01T20:06:25.886Z"
   },
   {
    "duration": 93,
    "start_time": "2024-07-01T20:06:34.879Z"
   },
   {
    "duration": 19,
    "start_time": "2024-07-01T20:06:42.721Z"
   },
   {
    "duration": 18,
    "start_time": "2024-07-01T20:06:58.050Z"
   },
   {
    "duration": 97,
    "start_time": "2024-07-01T20:07:24.120Z"
   },
   {
    "duration": 72,
    "start_time": "2024-07-01T20:08:10.781Z"
   },
   {
    "duration": 94,
    "start_time": "2024-07-01T20:08:17.776Z"
   },
   {
    "duration": 72,
    "start_time": "2024-07-01T20:08:19.940Z"
   },
   {
    "duration": 86,
    "start_time": "2024-07-01T20:09:05.182Z"
   },
   {
    "duration": 72,
    "start_time": "2024-07-01T20:09:10.646Z"
   },
   {
    "duration": 79,
    "start_time": "2024-07-01T20:09:26.952Z"
   },
   {
    "duration": 92,
    "start_time": "2024-07-01T20:09:27.977Z"
   },
   {
    "duration": 73,
    "start_time": "2024-07-01T20:09:29.207Z"
   },
   {
    "duration": 83,
    "start_time": "2024-07-01T20:11:32.418Z"
   },
   {
    "duration": 79,
    "start_time": "2024-07-01T20:11:35.460Z"
   },
   {
    "duration": 11,
    "start_time": "2024-07-01T20:12:42.690Z"
   },
   {
    "duration": 27,
    "start_time": "2024-07-01T20:13:41.824Z"
   },
   {
    "duration": 53,
    "start_time": "2024-07-01T20:13:56.883Z"
   },
   {
    "duration": 11,
    "start_time": "2024-07-01T20:15:00.352Z"
   },
   {
    "duration": 74,
    "start_time": "2024-07-01T20:15:56.450Z"
   },
   {
    "duration": 9,
    "start_time": "2024-07-01T20:19:24.680Z"
   },
   {
    "duration": 11,
    "start_time": "2024-07-01T20:19:30.149Z"
   },
   {
    "duration": 23,
    "start_time": "2024-07-01T20:19:45.091Z"
   },
   {
    "duration": 27,
    "start_time": "2024-07-01T20:19:56.265Z"
   },
   {
    "duration": 27,
    "start_time": "2024-07-01T20:20:07.705Z"
   },
   {
    "duration": 48,
    "start_time": "2024-07-01T20:21:12.532Z"
   },
   {
    "duration": 11,
    "start_time": "2024-07-01T20:21:44.993Z"
   },
   {
    "duration": 26,
    "start_time": "2024-07-01T20:21:51.972Z"
   },
   {
    "duration": 11,
    "start_time": "2024-07-01T20:22:41.032Z"
   },
   {
    "duration": 4,
    "start_time": "2024-07-01T20:27:58.251Z"
   },
   {
    "duration": 44,
    "start_time": "2024-07-01T20:29:40.335Z"
   },
   {
    "duration": 53,
    "start_time": "2024-07-01T20:30:39.008Z"
   },
   {
    "duration": 54,
    "start_time": "2024-07-01T20:31:28.409Z"
   },
   {
    "duration": 4,
    "start_time": "2024-07-01T20:31:43.352Z"
   },
   {
    "duration": 689,
    "start_time": "2024-07-01T20:35:04.062Z"
   },
   {
    "duration": 5,
    "start_time": "2024-07-01T20:36:04.148Z"
   },
   {
    "duration": 85,
    "start_time": "2024-07-01T20:36:04.972Z"
   },
   {
    "duration": 86,
    "start_time": "2024-07-01T20:36:23.286Z"
   },
   {
    "duration": 51,
    "start_time": "2024-07-01T20:36:47.293Z"
   },
   {
    "duration": 5,
    "start_time": "2024-07-01T20:36:52.771Z"
   },
   {
    "duration": 86,
    "start_time": "2024-07-01T20:36:55.097Z"
   },
   {
    "duration": 86,
    "start_time": "2024-07-01T20:39:06.522Z"
   },
   {
    "duration": 6,
    "start_time": "2024-07-01T20:39:16.936Z"
   },
   {
    "duration": 84,
    "start_time": "2024-07-01T20:39:20.336Z"
   },
   {
    "duration": 84,
    "start_time": "2024-07-01T20:39:52.407Z"
   },
   {
    "duration": 4,
    "start_time": "2024-07-01T20:41:24.428Z"
   },
   {
    "duration": 93,
    "start_time": "2024-07-01T20:41:25.422Z"
   },
   {
    "duration": 4,
    "start_time": "2024-07-01T20:42:34.611Z"
   },
   {
    "duration": 97,
    "start_time": "2024-07-01T20:42:35.379Z"
   },
   {
    "duration": 4,
    "start_time": "2024-07-01T20:43:04.670Z"
   },
   {
    "duration": 85,
    "start_time": "2024-07-01T20:43:05.332Z"
   },
   {
    "duration": 4,
    "start_time": "2024-07-01T20:45:21.505Z"
   },
   {
    "duration": 32,
    "start_time": "2024-07-01T20:45:22.455Z"
   },
   {
    "duration": 53,
    "start_time": "2024-07-01T20:46:54.794Z"
   },
   {
    "duration": 5,
    "start_time": "2024-07-01T20:46:56.359Z"
   },
   {
    "duration": 31,
    "start_time": "2024-07-01T20:46:57.205Z"
   },
   {
    "duration": 6,
    "start_time": "2024-07-01T20:49:50.593Z"
   },
   {
    "duration": 5,
    "start_time": "2024-07-01T20:49:54.579Z"
   },
   {
    "duration": 4,
    "start_time": "2024-07-01T20:50:09.127Z"
   },
   {
    "duration": 12,
    "start_time": "2024-07-01T20:50:10.587Z"
   },
   {
    "duration": 12,
    "start_time": "2024-07-01T20:50:17.387Z"
   },
   {
    "duration": 11,
    "start_time": "2024-07-01T20:50:27.134Z"
   },
   {
    "duration": 52,
    "start_time": "2024-07-01T20:50:45.902Z"
   },
   {
    "duration": 337,
    "start_time": "2024-07-01T23:09:47.033Z"
   },
   {
    "duration": 21,
    "start_time": "2024-07-01T23:10:17.467Z"
   },
   {
    "duration": 21,
    "start_time": "2024-07-01T23:10:26.298Z"
   },
   {
    "duration": 492,
    "start_time": "2024-07-01T23:10:59.822Z"
   },
   {
    "duration": 240,
    "start_time": "2024-07-01T23:11:00.317Z"
   },
   {
    "duration": 10,
    "start_time": "2024-07-01T23:11:00.561Z"
   },
   {
    "duration": 33,
    "start_time": "2024-07-01T23:11:00.828Z"
   },
   {
    "duration": 6,
    "start_time": "2024-07-01T23:11:01.819Z"
   },
   {
    "duration": 7,
    "start_time": "2024-07-01T23:11:01.919Z"
   },
   {
    "duration": 6,
    "start_time": "2024-07-01T23:11:01.960Z"
   },
   {
    "duration": 9,
    "start_time": "2024-07-01T23:11:02.027Z"
   },
   {
    "duration": 5,
    "start_time": "2024-07-01T23:11:02.091Z"
   },
   {
    "duration": 27,
    "start_time": "2024-07-01T23:11:02.189Z"
   },
   {
    "duration": 49,
    "start_time": "2024-07-01T23:11:02.276Z"
   },
   {
    "duration": 29,
    "start_time": "2024-07-01T23:11:02.344Z"
   },
   {
    "duration": 82,
    "start_time": "2024-07-01T23:11:02.425Z"
   },
   {
    "duration": 98,
    "start_time": "2024-07-01T23:11:02.510Z"
   },
   {
    "duration": 84,
    "start_time": "2024-07-01T23:11:02.612Z"
   },
   {
    "duration": 69,
    "start_time": "2024-07-01T23:11:02.700Z"
   },
   {
    "duration": 5,
    "start_time": "2024-07-01T23:11:02.773Z"
   },
   {
    "duration": 13,
    "start_time": "2024-07-01T23:11:02.780Z"
   },
   {
    "duration": 53,
    "start_time": "2024-07-01T23:11:02.846Z"
   },
   {
    "duration": 32,
    "start_time": "2024-07-01T23:11:03.102Z"
   },
   {
    "duration": 3,
    "start_time": "2024-07-01T23:11:03.179Z"
   },
   {
    "duration": 4,
    "start_time": "2024-07-01T23:11:03.272Z"
   },
   {
    "duration": 3,
    "start_time": "2024-07-01T23:11:03.329Z"
   },
   {
    "duration": 3,
    "start_time": "2024-07-01T23:11:03.359Z"
   },
   {
    "duration": 4,
    "start_time": "2024-07-01T23:11:03.385Z"
   },
   {
    "duration": 6,
    "start_time": "2024-07-01T23:11:03.424Z"
   },
   {
    "duration": 4,
    "start_time": "2024-07-01T23:11:03.447Z"
   },
   {
    "duration": 4,
    "start_time": "2024-07-01T23:11:03.479Z"
   },
   {
    "duration": 38,
    "start_time": "2024-07-01T23:11:10.516Z"
   },
   {
    "duration": 281,
    "start_time": "2024-07-01T23:12:26.745Z"
   },
   {
    "duration": 16,
    "start_time": "2024-07-01T23:12:34.573Z"
   },
   {
    "duration": 15,
    "start_time": "2024-07-01T23:13:53.577Z"
   },
   {
    "duration": 14,
    "start_time": "2024-07-01T23:14:28.219Z"
   },
   {
    "duration": 45,
    "start_time": "2024-07-01T23:18:26.497Z"
   },
   {
    "duration": 37,
    "start_time": "2024-07-01T23:18:37.074Z"
   },
   {
    "duration": 2574,
    "start_time": "2024-07-01T23:18:54.844Z"
   },
   {
    "duration": 15,
    "start_time": "2024-07-01T23:19:12.594Z"
   },
   {
    "duration": 15,
    "start_time": "2024-07-01T23:19:46.603Z"
   },
   {
    "duration": 21,
    "start_time": "2024-07-01T23:21:10.212Z"
   },
   {
    "duration": 15,
    "start_time": "2024-07-01T23:21:20.050Z"
   },
   {
    "duration": 217,
    "start_time": "2024-07-01T23:22:28.117Z"
   },
   {
    "duration": 15,
    "start_time": "2024-07-01T23:22:34.949Z"
   },
   {
    "duration": 13,
    "start_time": "2024-07-01T23:22:42.455Z"
   },
   {
    "duration": 16,
    "start_time": "2024-07-01T23:22:44.894Z"
   },
   {
    "duration": 35,
    "start_time": "2024-07-01T23:22:50.368Z"
   },
   {
    "duration": 336,
    "start_time": "2024-07-01T23:23:06.383Z"
   },
   {
    "duration": 81,
    "start_time": "2024-07-01T23:23:24.659Z"
   },
   {
    "duration": 16,
    "start_time": "2024-07-01T23:23:27.094Z"
   },
   {
    "duration": 78,
    "start_time": "2024-07-01T23:23:28.294Z"
   },
   {
    "duration": 6,
    "start_time": "2024-07-01T23:24:07.312Z"
   },
   {
    "duration": 23,
    "start_time": "2024-07-01T23:24:34.323Z"
   },
   {
    "duration": 39,
    "start_time": "2024-07-01T23:24:46.944Z"
   },
   {
    "duration": 5,
    "start_time": "2024-07-01T23:25:29.191Z"
   },
   {
    "duration": 30,
    "start_time": "2024-07-01T23:25:34.343Z"
   },
   {
    "duration": 16,
    "start_time": "2024-07-01T23:25:37.798Z"
   },
   {
    "duration": 460,
    "start_time": "2024-07-02T02:36:29.941Z"
   },
   {
    "duration": 206,
    "start_time": "2024-07-02T02:36:30.456Z"
   },
   {
    "duration": 8,
    "start_time": "2024-07-02T02:36:30.666Z"
   },
   {
    "duration": 56,
    "start_time": "2024-07-02T02:36:30.678Z"
   },
   {
    "duration": 6,
    "start_time": "2024-07-02T02:36:30.774Z"
   },
   {
    "duration": 6,
    "start_time": "2024-07-02T02:36:30.878Z"
   },
   {
    "duration": 7,
    "start_time": "2024-07-02T02:36:30.920Z"
   },
   {
    "duration": 7,
    "start_time": "2024-07-02T02:36:31.009Z"
   },
   {
    "duration": 6,
    "start_time": "2024-07-02T02:36:31.067Z"
   },
   {
    "duration": 26,
    "start_time": "2024-07-02T02:36:31.176Z"
   },
   {
    "duration": 43,
    "start_time": "2024-07-02T02:36:31.275Z"
   },
   {
    "duration": 38,
    "start_time": "2024-07-02T02:36:31.321Z"
   },
   {
    "duration": 83,
    "start_time": "2024-07-02T02:36:31.411Z"
   },
   {
    "duration": 100,
    "start_time": "2024-07-02T02:36:31.500Z"
   },
   {
    "duration": 92,
    "start_time": "2024-07-02T02:36:31.603Z"
   },
   {
    "duration": 65,
    "start_time": "2024-07-02T02:36:31.698Z"
   },
   {
    "duration": 4,
    "start_time": "2024-07-02T02:36:31.766Z"
   },
   {
    "duration": 11,
    "start_time": "2024-07-02T02:36:31.783Z"
   },
   {
    "duration": 51,
    "start_time": "2024-07-02T02:36:31.862Z"
   },
   {
    "duration": 16,
    "start_time": "2024-07-02T02:36:32.108Z"
   },
   {
    "duration": 15,
    "start_time": "2024-07-02T02:36:32.184Z"
   },
   {
    "duration": 3,
    "start_time": "2024-07-02T02:36:32.373Z"
   },
   {
    "duration": 4,
    "start_time": "2024-07-02T02:36:32.426Z"
   },
   {
    "duration": 2,
    "start_time": "2024-07-02T02:36:32.462Z"
   },
   {
    "duration": 3,
    "start_time": "2024-07-02T02:36:32.496Z"
   },
   {
    "duration": 3,
    "start_time": "2024-07-02T02:36:32.523Z"
   },
   {
    "duration": 3,
    "start_time": "2024-07-02T02:36:32.554Z"
   },
   {
    "duration": 3,
    "start_time": "2024-07-02T02:36:32.595Z"
   },
   {
    "duration": 16,
    "start_time": "2024-07-02T02:36:39.817Z"
   },
   {
    "duration": 15,
    "start_time": "2024-07-02T02:36:42.151Z"
   },
   {
    "duration": 7,
    "start_time": "2024-07-02T02:47:09.370Z"
   },
   {
    "duration": 6,
    "start_time": "2024-07-02T02:47:13.391Z"
   },
   {
    "duration": 6,
    "start_time": "2024-07-02T02:47:35.810Z"
   },
   {
    "duration": 4,
    "start_time": "2024-07-02T02:47:53.507Z"
   },
   {
    "duration": 6,
    "start_time": "2024-07-02T02:47:57.103Z"
   },
   {
    "duration": 331,
    "start_time": "2024-07-02T02:48:06.544Z"
   },
   {
    "duration": 7,
    "start_time": "2024-07-02T02:51:24.474Z"
   },
   {
    "duration": 5,
    "start_time": "2024-07-02T02:51:28.265Z"
   },
   {
    "duration": 5,
    "start_time": "2024-07-02T02:52:19.856Z"
   },
   {
    "duration": 23,
    "start_time": "2024-07-02T02:54:19.976Z"
   },
   {
    "duration": 37,
    "start_time": "2024-07-02T02:54:27.145Z"
   },
   {
    "duration": 62,
    "start_time": "2024-07-02T02:56:33.607Z"
   },
   {
    "duration": 28,
    "start_time": "2024-07-02T02:56:46.449Z"
   },
   {
    "duration": 5,
    "start_time": "2024-07-02T02:57:31.713Z"
   },
   {
    "duration": 23,
    "start_time": "2024-07-02T02:57:34.188Z"
   },
   {
    "duration": 22,
    "start_time": "2024-07-02T02:57:35.340Z"
   },
   {
    "duration": 5,
    "start_time": "2024-07-02T02:57:45.504Z"
   },
   {
    "duration": 46,
    "start_time": "2024-07-02T02:57:46.414Z"
   },
   {
    "duration": 42,
    "start_time": "2024-07-02T02:57:48.906Z"
   },
   {
    "duration": 5,
    "start_time": "2024-07-02T02:57:57.898Z"
   },
   {
    "duration": 22,
    "start_time": "2024-07-02T02:57:58.681Z"
   },
   {
    "duration": 20,
    "start_time": "2024-07-02T02:58:00.655Z"
   },
   {
    "duration": 26,
    "start_time": "2024-07-02T02:59:24.616Z"
   },
   {
    "duration": 20,
    "start_time": "2024-07-02T02:59:50.309Z"
   },
   {
    "duration": 22,
    "start_time": "2024-07-02T03:00:15.714Z"
   },
   {
    "duration": 23,
    "start_time": "2024-07-02T03:00:44.259Z"
   },
   {
    "duration": 20,
    "start_time": "2024-07-02T03:01:03.106Z"
   },
   {
    "duration": 4,
    "start_time": "2024-07-02T03:03:18.522Z"
   },
   {
    "duration": 4,
    "start_time": "2024-07-02T03:19:48.330Z"
   },
   {
    "duration": 323,
    "start_time": "2024-07-02T03:22:10.224Z"
   },
   {
    "duration": 456,
    "start_time": "2024-07-02T03:22:12.979Z"
   },
   {
    "duration": 4,
    "start_time": "2024-07-02T03:22:13.873Z"
   },
   {
    "duration": 7,
    "start_time": "2024-07-02T03:22:15.485Z"
   },
   {
    "duration": 213,
    "start_time": "2024-07-02T03:22:17.089Z"
   },
   {
    "duration": 9,
    "start_time": "2024-07-02T03:22:18.689Z"
   },
   {
    "duration": 32,
    "start_time": "2024-07-02T03:22:19.741Z"
   },
   {
    "duration": 540,
    "start_time": "2024-07-02T03:35:00.649Z"
   },
   {
    "duration": 229,
    "start_time": "2024-07-02T03:35:01.193Z"
   },
   {
    "duration": 12,
    "start_time": "2024-07-02T03:35:01.424Z"
   },
   {
    "duration": 34,
    "start_time": "2024-07-02T03:35:01.439Z"
   },
   {
    "duration": 6,
    "start_time": "2024-07-02T03:35:01.478Z"
   },
   {
    "duration": 45,
    "start_time": "2024-07-02T03:35:01.487Z"
   },
   {
    "duration": 9,
    "start_time": "2024-07-02T03:35:01.534Z"
   },
   {
    "duration": 7,
    "start_time": "2024-07-02T03:35:01.546Z"
   },
   {
    "duration": 6,
    "start_time": "2024-07-02T03:35:01.556Z"
   },
   {
    "duration": 65,
    "start_time": "2024-07-02T03:35:01.565Z"
   },
   {
    "duration": 42,
    "start_time": "2024-07-02T03:35:01.633Z"
   },
   {
    "duration": 55,
    "start_time": "2024-07-02T03:35:01.678Z"
   },
   {
    "duration": 102,
    "start_time": "2024-07-02T03:35:01.737Z"
   },
   {
    "duration": 97,
    "start_time": "2024-07-02T03:35:01.844Z"
   },
   {
    "duration": 77,
    "start_time": "2024-07-02T03:35:01.943Z"
   },
   {
    "duration": 61,
    "start_time": "2024-07-02T03:35:02.032Z"
   },
   {
    "duration": 5,
    "start_time": "2024-07-02T03:35:02.096Z"
   },
   {
    "duration": 39,
    "start_time": "2024-07-02T03:35:02.103Z"
   },
   {
    "duration": 52,
    "start_time": "2024-07-02T03:35:02.145Z"
   },
   {
    "duration": 42,
    "start_time": "2024-07-02T03:35:02.200Z"
   },
   {
    "duration": 16,
    "start_time": "2024-07-02T03:35:02.245Z"
   },
   {
    "duration": 5,
    "start_time": "2024-07-02T03:35:02.264Z"
   },
   {
    "duration": 62,
    "start_time": "2024-07-02T03:35:02.273Z"
   },
   {
    "duration": 22,
    "start_time": "2024-07-02T03:35:02.338Z"
   },
   {
    "duration": 23,
    "start_time": "2024-07-02T03:35:02.363Z"
   },
   {
    "duration": 52,
    "start_time": "2024-07-02T03:35:02.390Z"
   },
   {
    "duration": 27,
    "start_time": "2024-07-02T03:35:02.446Z"
   },
   {
    "duration": 56,
    "start_time": "2024-07-02T03:35:02.476Z"
   },
   {
    "duration": 3,
    "start_time": "2024-07-02T03:35:02.535Z"
   },
   {
    "duration": 9,
    "start_time": "2024-07-02T04:02:40.108Z"
   },
   {
    "duration": 338,
    "start_time": "2024-07-02T04:30:15.001Z"
   },
   {
    "duration": 508,
    "start_time": "2024-07-02T04:30:23.141Z"
   },
   {
    "duration": 210,
    "start_time": "2024-07-02T04:30:24.687Z"
   },
   {
    "duration": 10,
    "start_time": "2024-07-02T04:30:28.301Z"
   },
   {
    "duration": 159,
    "start_time": "2024-07-02T04:31:42.389Z"
   },
   {
    "duration": 21,
    "start_time": "2024-07-02T04:32:12.630Z"
   },
   {
    "duration": 47,
    "start_time": "2024-07-02T04:32:28.934Z"
   }
  ],
  "colab": {
   "collapsed_sections": [
    "E0vqbgi9ay0H",
    "VUC88oWjTJw2"
   ],
   "provenance": []
  },
  "kernelspec": {
   "display_name": "Python 3 (ipykernel)",
   "language": "python",
   "name": "python3"
  },
  "language_info": {
   "codemirror_mode": {
    "name": "ipython",
    "version": 3
   },
   "file_extension": ".py",
   "mimetype": "text/x-python",
   "name": "python",
   "nbconvert_exporter": "python",
   "pygments_lexer": "ipython3",
   "version": "3.12.4"
  },
  "toc": {
   "base_numbering": 1,
   "nav_menu": {},
   "number_sections": true,
   "sideBar": true,
   "skip_h1_title": true,
   "title_cell": "Table of Contents",
   "title_sidebar": "Contents",
   "toc_cell": false,
   "toc_position": {},
   "toc_section_display": true,
   "toc_window_display": false
  }
 },
 "nbformat": 4,
 "nbformat_minor": 1
}
